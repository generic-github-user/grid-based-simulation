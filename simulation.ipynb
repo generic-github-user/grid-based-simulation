{
 "cells": [
  {
   "cell_type": "code",
   "execution_count": 1,
   "id": "dd6b8c61-d363-4388-9d5f-5dea67f3174f",
   "metadata": {},
   "outputs": [],
   "source": [
    "%matplotlib widget"
   ]
  },
  {
   "cell_type": "code",
   "execution_count": 2,
   "id": "adb24466-5f42-4a00-b41b-c811d462888f",
   "metadata": {},
   "outputs": [],
   "source": [
    "# %matplotlib notebook\n",
    "import numpy as np\n",
    "import matplotlib.pyplot as plt"
   ]
  },
  {
   "cell_type": "code",
   "execution_count": 10,
   "id": "59302154-3dd8-4b01-be51-56ecd57c24ff",
   "metadata": {},
   "outputs": [
    {
     "data": {
      "text/plain": [
       "array([[<__main__.Block object at 0x00000233820B2CD0>,\n",
       "        <__main__.Block object at 0x00000233820B27C0>],\n",
       "       [<__main__.Block object at 0x00000233820B29A0>,\n",
       "        <__main__.Block object at 0x00000233820B2DF0>]], dtype=object)"
      ]
     },
     "execution_count": 10,
     "metadata": {},
     "output_type": "execute_result"
    }
   ],
   "source": [
    "class Block:\n",
    "    def __init__(self, dims=[32,32]):\n",
    "        self.dims = np.array(dims)\n",
    "        self.rank = len(self.dims)\n",
    "        self.vel = np.random.uniform(-1, 1, [self.rank])\n",
    "        self.subdivisions = 2\n",
    "        self.children = np.empty([self.subdivisions]*self.rank, dtype=object)"
   ]
  },
  {
   "cell_type": "code",
   "execution_count": null,
   "id": "0102481f-205c-4724-bec8-daebc68abdd4",
   "metadata": {},
   "outputs": [],
   "source": []
  }
 ],
 "metadata": {
  "kernelspec": {
   "display_name": "Python 3",
   "language": "python",
   "name": "python3"
  },
  "language_info": {
   "codemirror_mode": {
    "name": "ipython",
    "version": 3
   },
   "file_extension": ".py",
   "mimetype": "text/x-python",
   "name": "python",
   "nbconvert_exporter": "python",
   "pygments_lexer": "ipython3",
   "version": "3.9.4"
  }
 },
 "nbformat": 4,
 "nbformat_minor": 5
}
