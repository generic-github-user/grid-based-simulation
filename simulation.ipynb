{
 "cells": [
  {
   "cell_type": "code",
   "execution_count": 1,
   "id": "dd6b8c61-d363-4388-9d5f-5dea67f3174f",
   "metadata": {},
   "outputs": [],
   "source": [
    "%matplotlib widget"
   ]
  },
  {
   "cell_type": "code",
   "execution_count": 141,
   "id": "adb24466-5f42-4a00-b41b-c811d462888f",
   "metadata": {},
   "outputs": [],
   "source": [
    "# %matplotlib notebook\n",
    "import numpy as np\n",
    "import matplotlib.pyplot as plt\n",
    "# from itertools import product\n",
    "import itertools"
   ]
  },
  {
   "cell_type": "code",
   "execution_count": 160,
   "id": "59302154-3dd8-4b01-be51-56ecd57c24ff",
   "metadata": {},
   "outputs": [
    {
     "data": {
      "application/vnd.jupyter.widget-view+json": {
       "model_id": "2f6823ebdc524fa9ad523fee4f733c18",
       "version_major": 2,
       "version_minor": 0
      },
      "text/plain": [
       "Canvas(toolbar=Toolbar(toolitems=[('Home', 'Reset original view', 'home', 'home'), ('Back', 'Back to previous …"
      ]
     },
     "metadata": {},
     "output_type": "display_data"
    }
   ],
   "source": [
    "class Block:\n",
    "    def __init__(self, dims=[32,32], density=None):\n",
    "        self.dims = np.array(dims)\n",
    "        self.rank = len(self.dims)\n",
    "        self.vel = np.random.uniform(-1, 1, [self.rank])\n",
    "        self.density = density if density else np.random.uniform(0, 1)\n",
    "        self.subdivisions = 2\n",
    "        self.children = np.empty([self.subdivisions]*self.rank, dtype=object)\n",
    "        \n",
    "    def divide(self, traverse=False, inherit=True):\n",
    "        if np.min(self.dims) >= 2:\n",
    "            for w in np.ndindex(self.children.shape):\n",
    "                d = self.density if inherit else None\n",
    "                self.children[w] = Block(dims=self.dims/self.subdivisions, density=d)\n",
    "                if traverse:\n",
    "                    self.children[w].divide(traverse=traverse, inherit=inherit)\n",
    "        return self.children\n",
    "    \n",
    "    def extract(self, b):\n",
    "        if b.children.any():\n",
    "#             print(b.children)\n",
    "            data = np.array([self.extract(b.children[i]) for i in np.ndindex(b.children.shape)])\n",
    "#             print(data.shape)\n",
    "#             rank = round(data.shape[0]**1/2)-1\n",
    "            rank = round(np.product(data.shape)**(1/2))\n",
    "#             shape = [2**rank]*2 + [-1]\n",
    "            shape = np.array([rank]*2).astype(int)\n",
    "            raw = [2,2]+([rank-1]*2)\n",
    "#             raw = [r for r in raw if r!=1]\n",
    "            v = np.array(raw).astype(int)\n",
    "#             v = np.squeeze(v)\n",
    "#             data = np.reshape(data, v)\n",
    "            return np.reshape(data, tuple(shape))\n",
    "        else:\n",
    "            return b.density\n",
    "    \n",
    "    def simulate(self):\n",
    "        new_children = np.empty_like(self.children)\n",
    "#         if self.children.any():\n",
    "        if self.children[(0,0)].children.any():\n",
    "            for i in np.ndindex(self.children.shape):\n",
    "                self.children[i].simulate()\n",
    "        else:\n",
    "            for i in np.ndindex(self.children.shape):\n",
    "                new_children[i] = Block(density=self.children[i].density)\n",
    "                for j in itertools.product([-1,0,1], repeat=2):\n",
    "                    j = np.array(j)\n",
    "                    if ([0]*2 < j).all() and (j < self.children.shape).all():\n",
    "                        new_children[i].density += np.mean(self.children[i].density * j)\n",
    "            self.children = new_children\n",
    "    \n",
    "    def render(self):\n",
    "        canvas = self.extract(self).reshape(self.dims)\n",
    "        fig, ax = plt.subplots()\n",
    "        ax.imshow(canvas)\n",
    "#         ax.show()\n",
    "        return canvas\n",
    "        \n",
    "quadtree = Block()\n",
    "quadtree.divide(traverse=True, inherit=False)\n",
    "quadtree.render().shape\n",
    "for i in range(10):\n",
    "    quadtree.simulate()\n",
    "\n",
    "# print([x.children for x in quadtree.children])\n",
    "# print(quadtree.children[(0,0)].children)"
   ]
  },
  {
   "cell_type": "code",
   "execution_count": null,
   "id": "0102481f-205c-4724-bec8-daebc68abdd4",
   "metadata": {},
   "outputs": [],
   "source": []
  }
 ],
 "metadata": {
  "kernelspec": {
   "display_name": "Python 3",
   "language": "python",
   "name": "python3"
  },
  "language_info": {
   "codemirror_mode": {
    "name": "ipython",
    "version": 3
   },
   "file_extension": ".py",
   "mimetype": "text/x-python",
   "name": "python",
   "nbconvert_exporter": "python",
   "pygments_lexer": "ipython3",
   "version": "3.9.4"
  }
 },
 "nbformat": 4,
 "nbformat_minor": 5
}
