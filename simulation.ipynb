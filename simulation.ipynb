{
 "cells": [
  {
   "cell_type": "code",
   "execution_count": 1,
   "id": "dd6b8c61-d363-4388-9d5f-5dea67f3174f",
   "metadata": {},
   "outputs": [],
   "source": [
    "%matplotlib widget"
   ]
  },
  {
   "cell_type": "code",
   "execution_count": 2,
   "id": "adb24466-5f42-4a00-b41b-c811d462888f",
   "metadata": {},
   "outputs": [],
   "source": [
    "# %matplotlib notebook\n",
    "import numpy as np\n",
    "import matplotlib.pyplot as plt"
   ]
  },
  {
   "cell_type": "code",
   "execution_count": 53,
   "id": "59302154-3dd8-4b01-be51-56ecd57c24ff",
   "metadata": {},
   "outputs": [
    {
     "data": {
      "text/plain": [
       "(16, 16)"
      ]
     },
     "execution_count": 53,
     "metadata": {},
     "output_type": "execute_result"
    }
   ],
   "source": [
    "class Block:\n",
    "    def __init__(self, dims=[16,16], density=None):\n",
    "        self.dims = np.array(dims)\n",
    "        self.rank = len(self.dims)\n",
    "        self.vel = np.random.uniform(-1, 1, [self.rank])\n",
    "        self.density = density if density else np.random.uniform(0, 1)\n",
    "        self.subdivisions = 2\n",
    "        self.children = np.empty([self.subdivisions]*self.rank, dtype=object)\n",
    "        \n",
    "    def divide(self, traverse=False):\n",
    "        if np.min(self.dims) >= 2:\n",
    "            for w in np.ndindex(self.children.shape):\n",
    "                self.children[w] = Block(dims=self.dims/self.subdivisions, density=self.density)\n",
    "                if traverse:\n",
    "                    self.children[w].divide(traverse=traverse)\n",
    "        return self.children\n",
    "    \n",
    "    def extract(self, b):\n",
    "        if b.children.any():\n",
    "#             print(b.children)\n",
    "            data = np.array([self.extract(b.children[i]) for i in np.ndindex(b.children.shape)])\n",
    "#             print(data.shape)\n",
    "            rank = round(data.shape[0]**1/2)-1\n",
    "            shape = [2**rank]*2 + [-1]\n",
    "            return np.reshape(data, shape)\n",
    "        else:\n",
    "            return b.density\n",
    "    \n",
    "    def render(self):\n",
    "        return self.extract(self).reshape(self.dims)\n",
    "        \n",
    "quadtree = Block()\n",
    "quadtree.divide(traverse=True)\n",
    "quadtree.render().shape\n",
    "# print([x.children for x in quadtree.children])\n",
    "# print(quadtree.children[(0,0)].children)"
   ]
  },
  {
   "cell_type": "code",
   "execution_count": null,
   "id": "0102481f-205c-4724-bec8-daebc68abdd4",
   "metadata": {},
   "outputs": [],
   "source": []
  }
 ],
 "metadata": {
  "kernelspec": {
   "display_name": "Python 3",
   "language": "python",
   "name": "python3"
  },
  "language_info": {
   "codemirror_mode": {
    "name": "ipython",
    "version": 3
   },
   "file_extension": ".py",
   "mimetype": "text/x-python",
   "name": "python",
   "nbconvert_exporter": "python",
   "pygments_lexer": "ipython3",
   "version": "3.9.4"
  }
 },
 "nbformat": 4,
 "nbformat_minor": 5
}
